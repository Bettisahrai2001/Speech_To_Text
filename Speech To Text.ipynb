{
 "cells": [
  {
   "cell_type": "code",
   "execution_count": 4,
   "id": "4bd502e1-a2db-4683-a8f0-6573665c139e",
   "metadata": {},
   "outputs": [
    {
     "name": "stdout",
     "output_type": "stream",
     "text": [
      "Requirement already satisfied: SpeechRecognition in c:\\users\\admin\\onedrive\\new folder\\lib\\site-packages (3.14.1)\n",
      "Requirement already satisfied: typing-extensions in c:\\users\\admin\\onedrive\\new folder\\lib\\site-packages (from SpeechRecognition) (4.11.0)\n",
      "Requirement already satisfied: pyaudio in c:\\users\\admin\\onedrive\\new folder\\lib\\site-packages (0.2.14)\n"
     ]
    }
   ],
   "source": [
    "!pip install SpeechRecognition\n",
    "!pip install pyaudio"
   ]
  },
  {
   "cell_type": "code",
   "execution_count": 18,
   "id": "508695f4-8a63-461f-a9b6-2d55fd3f0901",
   "metadata": {},
   "outputs": [],
   "source": [
    "import tkinter as tk\n",
    "import speech_recognition as sr\n",
    "import threading\n",
    "\n",
    "\n",
    "languages = {\n",
    "    \"English\": \"en-US\",\n",
    "    \"Farsi\": \"fa-IR\",\n",
    "    \"Arabic\": \"ar-SA\",\n",
    "    \"Français\": \"fr-FR\",\n",
    "    \"Deutsch\": \"de-DE\"\n",
    "}\n",
    "\n",
    "\n",
    "def recognize_speech():\n",
    "    recognizer = sr.Recognizer()\n",
    "    with sr.Microphone() as source:\n",
    "        status_label.config(text=\"Listening...\")\n",
    "        recognizer.adjust_for_ambient_noise(source)\n",
    "        audio = recognizer.listen(source)\n",
    "        status_label.config(text=\"Converting to text...\")\n",
    "\n",
    "        \n",
    "        selected_lang = language_var.get()\n",
    "        lang_code = languages.get(selected_lang, \"en-US\")\n",
    "\n",
    "        try:\n",
    "            text = recognizer.recognize_google(audio, language=lang_code)\n",
    "            result_text.delete(0, tk.END)\n",
    "            result_text.insert(0, text)\n",
    "            status_label.config(text=\"Done!\")\n",
    "        except sr.UnknownValueError:\n",
    "            result_text.delete(0, tk.END)\n",
    "            result_text.insert(0, \"Sorry, couldn't understand\")\n",
    "            status_label.config(text=\"Could not recognize\")\n",
    "        except sr.RequestError as e:\n",
    "            result_text.delete(0, tk.END)\n",
    "            result_text.insert(0, f\"Network error: {e}\")\n",
    "            status_label.config(text=\"Server Error\")\n",
    "\n",
    "\n",
    "def threaded_record():\n",
    "    threading.Thread(target=recognize_speech).start()\n",
    "\n",
    "\n",
    "window = tk.Tk()\n",
    "window.geometry(\"500x250\")\n",
    "window.title(\"Speech to Text - Multi Language\")\n",
    "\n",
    "title = tk.Label(window, text=\"Select language and click Record\")\n",
    "title.pack(pady=10)\n",
    "\n",
    "\n",
    "language_var = tk.StringVar(window)\n",
    "language_var.set(\"English\")  \n",
    "\n",
    "language_menu = tk.OptionMenu(window, language_var, *languages.keys())\n",
    "language_menu.pack(pady=5)\n",
    "\n",
    "result_text = tk.Entry(window, width=50)\n",
    "result_text.pack(pady=10)\n",
    "\n",
    "record_button = tk.Button(window, text=\"🎙 Record\", command=threaded_record, bg=\"lightblue\")\n",
    "record_button.pack(pady=5)\n",
    "\n",
    "status_label = tk.Label(window, text=\"\")\n",
    "status_label.pack(pady=5)\n",
    "\n",
    "window.mainloop()\n"
   ]
  },
  {
   "cell_type": "code",
   "execution_count": null,
   "id": "ccecb460-758e-42ff-9719-d8c357f6a079",
   "metadata": {},
   "outputs": [],
   "source": []
  }
 ],
 "metadata": {
  "kernelspec": {
   "display_name": "Python 3 (ipykernel)",
   "language": "python",
   "name": "python3"
  },
  "language_info": {
   "codemirror_mode": {
    "name": "ipython",
    "version": 3
   },
   "file_extension": ".py",
   "mimetype": "text/x-python",
   "name": "python",
   "nbconvert_exporter": "python",
   "pygments_lexer": "ipython3",
   "version": "3.12.4"
  }
 },
 "nbformat": 4,
 "nbformat_minor": 5
}
